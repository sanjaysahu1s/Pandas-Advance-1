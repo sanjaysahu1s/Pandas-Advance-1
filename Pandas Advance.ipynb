{
 "cells": [
  {
   "cell_type": "markdown",
   "id": "847adbb7-db76-4977-981e-bb4bb638709c",
   "metadata": {},
   "source": [
    "Q1. List any five functions of the pandas library with execution."
   ]
  },
  {
   "cell_type": "markdown",
   "id": "59594485-6091-423d-9e8f-02e4e2f66ce4",
   "metadata": {},
   "source": [
    "#Answer\n",
    "\n",
    "Here are five functions from the pandas library along with their executions:\n",
    "\n",
    "1. `read_csv()`: This function is used to read data from a CSV file and create a pandas DataFrame."
   ]
  },
  {
   "cell_type": "code",
   "execution_count": 8,
   "id": "c8fb8c44-1248-4312-b81f-898bb367d675",
   "metadata": {},
   "outputs": [
    {
     "name": "stdout",
     "output_type": "stream",
     "text": [
      "     name           mail   phone_num\n",
      "0  sanjay   as@gmail.com   455455554\n",
      "1   sannn  sds@gmail.com  7878878878\n"
     ]
    }
   ],
   "source": [
    "import pandas as pd\n",
    "\n",
    "# Read a CSV file and create a DataFrame\n",
    "data = pd.read_csv('data.csv')\n",
    "print(data.head())\n"
   ]
  },
  {
   "cell_type": "markdown",
   "id": "cbafe1c3-1920-423b-9633-75f34281e7da",
   "metadata": {},
   "source": [
    "2. `head()`: This function is used to display the first few rows of a DataFrame.\n"
   ]
  },
  {
   "cell_type": "code",
   "execution_count": 9,
   "id": "454917a1-2e8f-40ae-bbcc-e2fed4b76088",
   "metadata": {},
   "outputs": [
    {
     "name": "stdout",
     "output_type": "stream",
     "text": [
      "    Name  Age      City\n",
      "0   John   25  New York\n",
      "1  Alice   30    London\n",
      "2    Bob   35     Paris\n"
     ]
    }
   ],
   "source": [
    "import pandas as pd\n",
    "\n",
    "# Create a DataFrame\n",
    "data = {'Name': ['John', 'Alice', 'Bob', 'Emma', 'Alex'],\n",
    "        'Age': [25, 30, 35, 40, 45],\n",
    "        'City': ['New York', 'London', 'Paris', 'Sydney', 'Tokyo']}\n",
    "df = pd.DataFrame(data)\n",
    "\n",
    "# Display the first 3 rows of the DataFrame\n",
    "print(df.head(3))\n"
   ]
  },
  {
   "cell_type": "markdown",
   "id": "c4216474-f379-415c-8e2d-48e2b8c57416",
   "metadata": {},
   "source": [
    "3. `info()`: This function provides a summary of the DataFrame, including the column names, data types, and non-null counts.\n"
   ]
  },
  {
   "cell_type": "code",
   "execution_count": 10,
   "id": "e02f731e-9bfc-4ea5-8c16-f15379a98ab9",
   "metadata": {},
   "outputs": [
    {
     "name": "stdout",
     "output_type": "stream",
     "text": [
      "<class 'pandas.core.frame.DataFrame'>\n",
      "RangeIndex: 5 entries, 0 to 4\n",
      "Data columns (total 3 columns):\n",
      " #   Column  Non-Null Count  Dtype \n",
      "---  ------  --------------  ----- \n",
      " 0   Name    5 non-null      object\n",
      " 1   Age     5 non-null      int64 \n",
      " 2   City    5 non-null      object\n",
      "dtypes: int64(1), object(2)\n",
      "memory usage: 248.0+ bytes\n"
     ]
    }
   ],
   "source": [
    "import pandas as pd\n",
    "\n",
    "# Create a DataFrame\n",
    "data = {'Name': ['John', 'Alice', 'Bob', 'Emma', 'Alex'],\n",
    "        'Age': [25, 30, 35, 40, 45],\n",
    "        'City': ['New York', 'London', 'Paris', 'Sydney', 'Tokyo']}\n",
    "df = pd.DataFrame(data)\n",
    "\n",
    "# Display information about the DataFrame\n",
    "df.info()"
   ]
  },
  {
   "cell_type": "markdown",
   "id": "236fffa9-f65c-4008-958e-75fab5e0dedc",
   "metadata": {},
   "source": [
    "4. `groupby()`: This function is used for grouping data based on one or more columns, allowing for aggregation and analysis.\n"
   ]
  },
  {
   "cell_type": "code",
   "execution_count": 11,
   "id": "5b21001a-dd0b-468a-92f2-ac443054e351",
   "metadata": {},
   "outputs": [
    {
     "name": "stdout",
     "output_type": "stream",
     "text": [
      "City\n",
      "London      30.0\n",
      "New York    25.0\n",
      "Paris       35.0\n",
      "Sydney      40.0\n",
      "Tokyo       45.0\n",
      "Name: Age, dtype: float64\n"
     ]
    }
   ],
   "source": [
    "import pandas as pd\n",
    "\n",
    "# Create a DataFrame\n",
    "data = {'Name': ['John', 'Alice', 'Bob', 'Emma', 'Alex'],\n",
    "        'Age': [25, 30, 35, 40, 45],\n",
    "        'City': ['New York', 'London', 'Paris', 'Sydney', 'Tokyo']}\n",
    "df = pd.DataFrame(data)\n",
    "\n",
    "# Group the data by 'City' column and calculate the mean age\n",
    "grouped_data = df.groupby('City')['Age'].mean()\n",
    "print(grouped_data)"
   ]
  },
  {
   "cell_type": "markdown",
   "id": "8e2c89f4-5b89-4c23-98ed-416904e8daf5",
   "metadata": {},
   "source": [
    "5. `fillna()`: This function is used to fill missing or NaN (null) values in a DataFrame with a specified value or method.\n"
   ]
  },
  {
   "cell_type": "code",
   "execution_count": 13,
   "id": "30ad602a-a57e-4931-bb69-53aee54a5d50",
   "metadata": {},
   "outputs": [
    {
     "name": "stdout",
     "output_type": "stream",
     "text": [
      "    Name   Age      City\n",
      "0   John  25.0  New York\n",
      "1  Alice  30.0    London\n",
      "2    Bob  35.0     Paris\n",
      "3    NaN  40.0    Sydney\n",
      "4   Alex  45.0     Tokyo\n"
     ]
    }
   ],
   "source": [
    "import pandas as pd\n",
    "import numpy as np\n",
    "\n",
    "# Create a DataFrame with missing values\n",
    "data = {'Name': ['John', 'Alice', 'Bob', np.nan, 'Alex'],\n",
    "        'Age': [25, 30, np.nan, 40, 45],\n",
    "        'City': ['New York', 'London', 'Paris', 'Sydney', 'Tokyo']}\n",
    "df = pd.DataFrame(data)\n",
    "\n",
    "# Fill missing values in 'Age' column with the mean age\n",
    "df['Age'].fillna(df['Age'].mean(), inplace=True)\n",
    "print(df)"
   ]
  },
  {
   "cell_type": "markdown",
   "id": "d768ab2e-88b4-43b3-a1dd-6c72edbb4923",
   "metadata": {},
   "source": [
    "                      -------------------------------------------------------------------"
   ]
  },
  {
   "cell_type": "markdown",
   "id": "491180f2-5135-481c-9aa5-c7f7f6e92a5f",
   "metadata": {},
   "source": [
    "Q2. Given a Pandas DataFrame df with columns 'A', 'B', and 'C', write a Python function to re-index the\n",
    "DataFrame with a new index that starts from 1 and increments by 2 for each row."
   ]
  },
  {
   "cell_type": "markdown",
   "id": "9e63d92d-0f18-4708-9429-83d8ea326200",
   "metadata": {},
   "source": [
    "#Answer\n",
    "\n",
    "We can use the reset_index() function in pandas to re-index the DataFrame with a new index that starts from 1 and increments by 2 for each row. Here's a Python function that accomplishes this:"
   ]
  },
  {
   "cell_type": "code",
   "execution_count": 14,
   "id": "c859c012-3dd0-48ee-ae7c-096c9d026e0a",
   "metadata": {},
   "outputs": [
    {
     "name": "stdout",
     "output_type": "stream",
     "text": [
      "    A   B    C\n",
      "1  10  50   90\n",
      "3  20  60  100\n",
      "5  30  70  110\n",
      "7  40  80  120\n"
     ]
    }
   ],
   "source": [
    "import pandas as pd\n",
    "\n",
    "def reindex_dataframe(df):\n",
    "    new_index = pd.Index(range(1, len(df) * 2, 2))\n",
    "    df = df.reset_index(drop=True)\n",
    "    df.index = new_index\n",
    "    return df\n",
    "\n",
    "# Example usage\n",
    "data = {'A': [10, 20, 30, 40],\n",
    "        'B': [50, 60, 70, 80],\n",
    "        'C': [90, 100, 110, 120]}\n",
    "df = pd.DataFrame(data)\n",
    "\n",
    "# Re-index the DataFrame\n",
    "df_reindexed = reindex_dataframe(df)\n",
    "print(df_reindexed)\n"
   ]
  },
  {
   "cell_type": "markdown",
   "id": "61e7fe27-1fe2-442b-9990-ddf2b4958328",
   "metadata": {},
   "source": [
    "                      -------------------------------------------------------------------"
   ]
  },
  {
   "cell_type": "markdown",
   "id": "ee58e8fc-6392-4da0-a0c9-2443f93e661c",
   "metadata": {},
   "source": [
    "Q3. You have a Pandas DataFrame df with a column named 'Values'. Write a Python function that\n",
    "iterates over the DataFrame and calculates the sum of the first three values in the 'Values' column. The\n",
    "function should print the sum to the console.\n",
    "For example, if the 'Values' column of df contains the values [10, 20, 30, 40, 50], your function should\n",
    "calculate and print the sum of the first three values, which is 60."
   ]
  },
  {
   "cell_type": "markdown",
   "id": "80fd6212-86e0-4dbb-b95c-70ae32fe1b2f",
   "metadata": {},
   "source": [
    "#Answer\n",
    "\n",
    "We can use the iterrows() function in pandas to iterate over the DataFrame and calculate the sum of the first three values in the 'Values' column. Here's a Python function that achieves this:"
   ]
  },
  {
   "cell_type": "code",
   "execution_count": 15,
   "id": "f6565111-9728-4048-8da0-0fe091f95e7c",
   "metadata": {},
   "outputs": [
    {
     "name": "stdout",
     "output_type": "stream",
     "text": [
      "Sum of the first three values: 60\n"
     ]
    }
   ],
   "source": [
    "import pandas as pd\n",
    "\n",
    "def calculate_sum(df):\n",
    "    total_sum = 0\n",
    "    for index, row in df.iterrows():\n",
    "        if index < 3:\n",
    "            total_sum += row['Values']\n",
    "    print(\"Sum of the first three values:\", total_sum)\n",
    "\n",
    "# Example usage\n",
    "data = {'Values': [10, 20, 30, 40, 50]}\n",
    "df = pd.DataFrame(data)\n",
    "\n",
    "# Calculate the sum\n",
    "calculate_sum(df)\n"
   ]
  },
  {
   "cell_type": "markdown",
   "id": "ab68aa9b-06e7-48ba-9454-ab662e3c7fc2",
   "metadata": {},
   "source": [
    "                      -------------------------------------------------------------------"
   ]
  },
  {
   "cell_type": "markdown",
   "id": "603d8454-0f91-4c58-9047-9330eaa2c9b0",
   "metadata": {},
   "source": [
    "Q4. Given a Pandas DataFrame df with a column 'Text', write a Python function to create a new column\n",
    "'Word_Count' that contains the number of words in each row of the 'Text' column."
   ]
  },
  {
   "cell_type": "markdown",
   "id": "e327d29b-439f-4dfc-a246-600e1aa5ab93",
   "metadata": {},
   "source": [
    "#Answer\n",
    "\n",
    "We can use the apply() function in pandas along with a lambda function to create a new column 'Word_Count' that contains the number of words in each row of the 'Text' column. Here's a Python function that accomplishes this:"
   ]
  },
  {
   "cell_type": "code",
   "execution_count": 16,
   "id": "12cf3326-6a08-4f3c-a880-13b8f791ed1f",
   "metadata": {},
   "outputs": [
    {
     "name": "stdout",
     "output_type": "stream",
     "text": [
      "                                Text  Word_Count\n",
      "0         This is a sample sentence.           5\n",
      "1  Another sentence with more words.           5\n",
      "2                    A short phrase.           3\n"
     ]
    }
   ],
   "source": [
    "import pandas as pd\n",
    "\n",
    "def add_word_count(df):\n",
    "    df['Word_Count'] = df['Text'].apply(lambda x: len(str(x).split()))\n",
    "    return df\n",
    "\n",
    "# Example usage\n",
    "data = {'Text': ['This is a sample sentence.',\n",
    "                 'Another sentence with more words.',\n",
    "                 'A short phrase.']}\n",
    "df = pd.DataFrame(data)\n",
    "\n",
    "# Add the 'Word_Count' column\n",
    "df = add_word_count(df)\n",
    "print(df)\n"
   ]
  },
  {
   "cell_type": "markdown",
   "id": "cefbaf43-6ff9-49ad-b189-2a56c6f188e8",
   "metadata": {},
   "source": [
    "                      -------------------------------------------------------------------"
   ]
  },
  {
   "cell_type": "markdown",
   "id": "d83dbde1-120b-428e-9820-73b17987c381",
   "metadata": {},
   "source": [
    "Q5. How are DataFrame.size() and DataFrame.shape() different?"
   ]
  },
  {
   "cell_type": "markdown",
   "id": "3541aa48-3059-45c4-bb08-c6326bb3200e",
   "metadata": {},
   "source": [
    "#Answer\n",
    "\n",
    "The DataFrame.size and DataFrame.shape are both attributes of a pandas DataFrame in Python, but they provide different information about the DataFrame:\n",
    "\n",
    "DataFrame.size:\n",
    "\n",
    "DataFrame.size returns the total number of elements in the DataFrame, which is equal to the product of the number of rows and the number of columns.\n",
    "It provides the count of all values in the DataFrame, including both non-null and null values.\n",
    "The size attribute does not take any arguments and does not require parentheses when accessing it.\n",
    "DataFrame.shape:\n",
    "\n",
    "DataFrame.shape returns a tuple that represents the dimensions of the DataFrame.\n",
    "It provides the number of rows followed by the number of columns in the DataFrame.\n",
    "The shape attribute does not take any arguments, and parentheses are required when accessing it to retrieve the tuple."
   ]
  },
  {
   "cell_type": "markdown",
   "id": "4bd56842-96dd-463e-9a53-abe5f7acc2c6",
   "metadata": {},
   "source": [
    "                       -------------------------------------------------------------------"
   ]
  },
  {
   "cell_type": "markdown",
   "id": "e5cfcd8a-e250-42a7-8424-c3a5f8fe7a69",
   "metadata": {},
   "source": [
    "Q6. Which function of pandas do we use to read an excel file?"
   ]
  },
  {
   "cell_type": "markdown",
   "id": "68a8b477-73a8-4f5c-a6f4-971b844dd20c",
   "metadata": {},
   "source": [
    "#Answer\n",
    "\n",
    "In pandas, the function commonly used to read an Excel file is read_excel(). This function allows you to read data from an Excel file and create a pandas DataFrame."
   ]
  },
  {
   "cell_type": "markdown",
   "id": "f6139127-0d03-42f5-af45-00d1e84a5398",
   "metadata": {},
   "source": [
    "                        -------------------------------------------------------------------"
   ]
  },
  {
   "cell_type": "markdown",
   "id": "a78b6ce8-8063-4cfc-a63b-470d675d18ad",
   "metadata": {},
   "source": [
    "Q7. You have a Pandas DataFrame df that contains a column named 'Email' that contains email\n",
    "addresses in the format 'username@domain.com'. Write a Python function that creates a new column\n",
    "'Username' in df that contains only the username part of each email address.\n",
    "The username is the part of the email address that appears before the '@' symbol. For example, if the\n",
    "email address is 'john.doe@example.com', the 'Username' column should contain 'john.doe'. Your\n",
    "function should extract the username from each email address and store it in the new 'Username'\n",
    "column."
   ]
  },
  {
   "cell_type": "markdown",
   "id": "86a4907e-3c7a-43bd-bb99-8ac3b7c96732",
   "metadata": {},
   "source": [
    "#Answer\n",
    "\n",
    "We can use the str.split() method in pandas along with a lambda function to extract the username part from each email address and create a new column 'Username' in the DataFrame. Here's a Python function that achieves this:"
   ]
  },
  {
   "cell_type": "code",
   "execution_count": 18,
   "id": "38e44e10-db7d-4865-8eac-ea440bfbc207",
   "metadata": {},
   "outputs": [
    {
     "name": "stdout",
     "output_type": "stream",
     "text": [
      "                     Email     Username\n",
      "0     john.doe@example.com     john.doe\n",
      "1  alice.smith@example.com  alice.smith\n",
      "2  bob.johnson@example.com  bob.johnson\n"
     ]
    }
   ],
   "source": [
    "import pandas as pd\n",
    "\n",
    "def extract_username(df):\n",
    "    df['Username'] = df['Email'].apply(lambda x: x.split('@')[0])\n",
    "    return df\n",
    "\n",
    "# Example usage\n",
    "data = {'Email': ['john.doe@example.com', 'alice.smith@example.com', 'bob.johnson@example.com']}\n",
    "df = pd.DataFrame(data)\n",
    "\n",
    "# Extract the username\n",
    "df = extract_username(df)\n",
    "print(df)\n"
   ]
  },
  {
   "cell_type": "markdown",
   "id": "c195c9bd-aba6-49ad-a195-6b541eb54fb2",
   "metadata": {},
   "source": [
    "                        -------------------------------------------------------------------"
   ]
  },
  {
   "cell_type": "code",
   "execution_count": null,
   "id": "7c3c17b8-dbd0-4342-9eaf-0794a54a9734",
   "metadata": {},
   "outputs": [],
   "source": [
    "Q8. You have a Pandas DataFrame df with columns 'A', 'B', and 'C'. Write a Python function that selects\n",
    "all rows where the value in column 'A' is greater than 5 and the value in column 'B' is less than 10. The\n",
    "function should return a new DataFrame that contains only the selected rows.\n",
    "For example, if df contains the following values:\n",
    "A B C\n",
    "0 3 5 1\n",
    "1 8 2 7\n",
    "2 6 9 4\n",
    "3 2 3 5\n",
    "4 9 1 2\n",
    "\n",
    "Your function should select the following rows: A B C\n",
    "1 8 2 7\n",
    "4 9 1 2\n",
    "The function should return a new DataFrame that contains only the selected rows."
   ]
  },
  {
   "cell_type": "markdown",
   "id": "20400a65-7be7-4f01-8cff-38a5d8a13557",
   "metadata": {},
   "source": [
    "#Answer \n",
    "\n",
    "We can use conditional indexing in pandas to select rows based on specific conditions. Here's a Python function that selects rows from the DataFrame df where the value in column 'A' is greater than 5 and the value in column 'B' is less than 10:"
   ]
  },
  {
   "cell_type": "code",
   "execution_count": 21,
   "id": "e4274e66-9990-434d-af36-1a9dd70ce943",
   "metadata": {},
   "outputs": [
    {
     "name": "stdout",
     "output_type": "stream",
     "text": [
      "   A  B  C\n",
      "1  8  2  7\n",
      "2  6  9  4\n",
      "4  9  1  2\n"
     ]
    }
   ],
   "source": [
    "import pandas as pd\n",
    "\n",
    "def select_rows(df):\n",
    "    selected_rows = df[(df['A'] > 5) & (df['B'] < 10)]\n",
    "    return selected_rows\n",
    "\n",
    "# Example usage\n",
    "data = {'A': [3, 8, 6, 2, 9],\n",
    "        'B': [5, 2, 9, 3, 1],\n",
    "        'C': [1, 7, 4, 5, 2]}\n",
    "df = pd.DataFrame(data)\n",
    "\n",
    "# Select rows based on conditions\n",
    "selected_df = select_rows(df)\n",
    "print(selected_df)\n"
   ]
  },
  {
   "cell_type": "markdown",
   "id": "2ca9c3e3-ab5e-4afa-a8af-3cc6dc8140e2",
   "metadata": {},
   "source": [
    "                        -------------------------------------------------------------------"
   ]
  },
  {
   "cell_type": "markdown",
   "id": "ece393b4-ca14-4141-b8a7-7f45c8d91dbe",
   "metadata": {},
   "source": [
    "Q9. Given a Pandas DataFrame df with a column 'Values', write a Python function to calculate the mean,\n",
    "median, and standard deviation of the values in the 'Values' column."
   ]
  },
  {
   "cell_type": "markdown",
   "id": "74578cce-9cae-4392-b9a1-f8f1516ebf87",
   "metadata": {},
   "source": [
    "#Answer\n",
    "\n",
    "We can use the mean(), median(), and std() functions in pandas to calculate the mean, median, and standard deviation of the values in the 'Values' column of a DataFrame. Here's a Python function that accomplishes this:"
   ]
  },
  {
   "cell_type": "code",
   "execution_count": 22,
   "id": "0cc58167-9ad7-4c3b-8e62-221069a0ade7",
   "metadata": {},
   "outputs": [
    {
     "name": "stdout",
     "output_type": "stream",
     "text": [
      "Mean: 30.0\n",
      "Median: 30.0\n",
      "Standard Deviation: 15.811388300841896\n"
     ]
    }
   ],
   "source": [
    "import pandas as pd\n",
    "\n",
    "def calculate_statistics(df):\n",
    "    values = df['Values']\n",
    "    mean_value = values.mean()\n",
    "    median_value = values.median()\n",
    "    std_value = values.std()\n",
    "    return mean_value, median_value, std_value\n",
    "\n",
    "# Example usage\n",
    "data = {'Values': [10, 20, 30, 40, 50]}\n",
    "df = pd.DataFrame(data)\n",
    "\n",
    "# Calculate statistics\n",
    "mean, median, std = calculate_statistics(df)\n",
    "print(\"Mean:\", mean)\n",
    "print(\"Median:\", median)\n",
    "print(\"Standard Deviation:\", std)\n"
   ]
  },
  {
   "cell_type": "markdown",
   "id": "d61fbc24-8d8c-4b19-b3a5-ff8576ea0933",
   "metadata": {},
   "source": [
    "                        -------------------------------------------------------------------"
   ]
  },
  {
   "cell_type": "markdown",
   "id": "8f8a3ded-0181-4e31-a218-30a9a9be3821",
   "metadata": {},
   "source": [
    "Q10. Given a Pandas DataFrame df with a column 'Sales' and a column 'Date', write a Python function to\n",
    "create a new column 'MovingAverage' that contains the moving average of the sales for the past 7 days\n",
    "for each row in the DataFrame. The moving average should be calculated using a window of size 7 and\n",
    "should include the current day."
   ]
  },
  {
   "cell_type": "markdown",
   "id": "f9e74a3c-41c8-445b-b9da-dff4c294e7c7",
   "metadata": {},
   "source": [
    "#Answer\n",
    "\n",
    "To create a new column 'MovingAverage' in the DataFrame 'df' that contains the moving average of the sales for the past 7 days, you can use the rolling() function in pandas. Here's a Python function that achieves this:"
   ]
  },
  {
   "cell_type": "code",
   "execution_count": 23,
   "id": "3f282bb7-5186-4930-8888-c278608c8dab",
   "metadata": {},
   "outputs": [
    {
     "name": "stdout",
     "output_type": "stream",
     "text": [
      "   Sales       Date  MovingAverage\n",
      "0     10 2022-01-01           10.0\n",
      "1     20 2022-01-02           15.0\n",
      "2     30 2022-01-03           20.0\n",
      "3     40 2022-01-04           25.0\n",
      "4     50 2022-01-05           30.0\n",
      "5     60 2022-01-06           35.0\n",
      "6     70 2022-01-07           40.0\n",
      "7     80 2022-01-08           50.0\n",
      "8     90 2022-01-09           60.0\n",
      "9    100 2022-01-10           70.0\n"
     ]
    }
   ],
   "source": [
    "import pandas as pd\n",
    "\n",
    "def calculate_moving_average(df):\n",
    "    df['MovingAverage'] = df['Sales'].rolling(window=7, min_periods=1).mean()\n",
    "    return df\n",
    "\n",
    "# Example usage\n",
    "data = {'Sales': [10, 20, 30, 40, 50, 60, 70, 80, 90, 100],\n",
    "        'Date': pd.date_range(start='2022-01-01', periods=10)}\n",
    "df = pd.DataFrame(data)\n",
    "\n",
    "# Calculate the moving average\n",
    "df = calculate_moving_average(df)\n",
    "print(df)\n"
   ]
  },
  {
   "cell_type": "markdown",
   "id": "9db6a949-0ee1-45ec-b604-a6c045e4aeb6",
   "metadata": {},
   "source": [
    "                        -------------------------------------------------------------------"
   ]
  },
  {
   "cell_type": "code",
   "execution_count": null,
   "id": "1853ec4e-2f9b-4762-ac01-43a5bfce5ea5",
   "metadata": {},
   "outputs": [],
   "source": [
    "Q11. You have a Pandas DataFrame df with a column 'Date'. Write a Python function that creates a new\n",
    "column 'Weekday' in the DataFrame. The 'Weekday' column should contain the weekday name (e.g.\n",
    "Monday, Tuesday) corresponding to each date in the 'Date' column.\n",
    "For example, if df contains the following values:\n",
    "Date\n",
    "0 2023-01-01\n",
    "1 2023-01-02\n",
    "2 2023-01-03\n",
    "3 2023-01-04\n",
    "4 2023-01-05\n",
    "Your function should create the following DataFrame:\n",
    "\n",
    "Date Weekday\n",
    "0 2023-01-01 Sunday\n",
    "1 2023-01-02 Monday\n",
    "2 2023-01-03 Tuesday\n",
    "3 2023-01-04 Wednesday\n",
    "4 2023-01-05 Thursday\n",
    "The function should return the modified DataFrame."
   ]
  },
  {
   "cell_type": "markdown",
   "id": "d05ceca1-0301-4982-a56d-e3b275ca6cd4",
   "metadata": {},
   "source": [
    "#Answer\n",
    "\n",
    "To create a new column 'Weekday' in the DataFrame 'df' that contains the weekday name corresponding to each date in the 'Date' column, you can use the dt accessor in pandas to access the datetime properties of the 'Date' column. Here's a Python function that accomplishes this:"
   ]
  },
  {
   "cell_type": "code",
   "execution_count": 26,
   "id": "7c49c3ed-a2c7-4159-9229-fa2fda0dc885",
   "metadata": {},
   "outputs": [
    {
     "name": "stdout",
     "output_type": "stream",
     "text": [
      "        Date    Weekday\n",
      "0 2023-01-01     Sunday\n",
      "1 2023-01-02     Monday\n",
      "2 2023-01-03    Tuesday\n",
      "3 2023-01-04  Wednesday\n",
      "4 2023-01-05   Thursday\n"
     ]
    }
   ],
   "source": [
    "import pandas as pd\n",
    "\n",
    "def add_weekday(df):\n",
    "    df['Weekday'] = df['Date'].dt.day_name()\n",
    "    return df\n",
    "\n",
    "# Example usage\n",
    "data = {'Date': pd.to_datetime(['2023-01-01', '2023-01-02', '2023-01-03', '2023-01-04', '2023-01-05'])}\n",
    "df = pd.DataFrame(data)\n",
    "\n",
    "# Add the 'Weekday' column\n",
    "df = add_weekday(df)\n",
    "print(df)\n"
   ]
  },
  {
   "cell_type": "markdown",
   "id": "b7419c94-cf38-42f3-b3b7-c58442a90dca",
   "metadata": {},
   "source": [
    "                        -------------------------------------------------------------------"
   ]
  }
 ],
 "metadata": {
  "kernelspec": {
   "display_name": "Python 3 (ipykernel)",
   "language": "python",
   "name": "python3"
  },
  "language_info": {
   "codemirror_mode": {
    "name": "ipython",
    "version": 3
   },
   "file_extension": ".py",
   "mimetype": "text/x-python",
   "name": "python",
   "nbconvert_exporter": "python",
   "pygments_lexer": "ipython3",
   "version": "3.10.8"
  }
 },
 "nbformat": 4,
 "nbformat_minor": 5
}
